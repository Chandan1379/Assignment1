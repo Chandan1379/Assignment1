{
 "cells": [
  {
   "cell_type": "markdown",
   "id": "3fa382b4",
   "metadata": {},
   "source": [
    "# Q(1). Write a program to accept percentage from the user and display the grade according to the following criteria:"
   ]
  },
  {
   "cell_type": "markdown",
   "id": "bf722d56",
   "metadata": {},
   "source": [
    "| Marks | Grade |\n",
    "|---------|------- |\n",
    "| 90 | A |\n",
    "| 80 and <= 90 | B |\n",
    "| =60 and <= 80 | C |\n",
    "| below 60 | D |"
   ]
  },
  {
   "cell_type": "code",
   "execution_count": 1,
   "id": "9baca6cf",
   "metadata": {},
   "outputs": [
    {
     "name": "stdout",
     "output_type": "stream",
     "text": [
      "Enter the percentage of marks:90\n",
      "B\n"
     ]
    }
   ],
   "source": [
    "marks = int(input(\"Enter the percentage of marks:\"))\n",
    "\n",
    "if marks > 90 :\n",
    "    print(\"A\")\n",
    "    \n",
    "elif marks > 80 and marks <=90:\n",
    "    print(\"B\")\n",
    "    \n",
    "elif marks >= 60 and marks <=80:\n",
    "    print(\"C\")\n",
    "else:\n",
    "    print(\"D\")"
   ]
  },
  {
   "cell_type": "markdown",
   "id": "ca61cb93",
   "metadata": {},
   "source": [
    "# Q(2). Write a program to accept the cost price of a bike and display the road tax to be paid according to the following criteria:"
   ]
  },
  {
   "cell_type": "markdown",
   "id": "68d13de4",
   "metadata": {},
   "source": [
    "| Tax | Cost Price(in Rs) |\n",
    "|---------|------- |\n",
    "| 15% | >100000 |\n",
    "| 10% | >50000 and <=100000 |\n",
    "| 5% | <=50000 |"
   ]
  },
  {
   "cell_type": "code",
   "execution_count": 2,
   "id": "dfb20671",
   "metadata": {},
   "outputs": [
    {
     "name": "stdout",
     "output_type": "stream",
     "text": [
      "Enter the cost price of a bike:50000\n",
      "The road tax to be paid is: 2500.0\n"
     ]
    }
   ],
   "source": [
    "cp = float(input(\"Enter the cost price of a bike:\"))\n",
    "\n",
    "if cp> 100000: # Here cp means cost price and t means tax.\n",
    "    t = 0.15\n",
    "\n",
    "elif cp > 50000 and cp <= 100000:\n",
    "    t = 0.10\n",
    "elif cp <= 50000:\n",
    "    t = 0.05\n",
    "rate = cp*t\n",
    "\n",
    "print(\"The road tax to be paid is:\", rate)"
   ]
  },
  {
   "cell_type": "markdown",
   "id": "91c4e81a",
   "metadata": {},
   "source": [
    "# Q(3). Accept any city from the user and display monuments of that city."
   ]
  },
  {
   "cell_type": "markdown",
   "id": "4e9e5689",
   "metadata": {},
   "source": [
    "| City | Monument |\n",
    "|---------|------- |\n",
    "| Delhi | Red Fort |\n",
    "| Agra | Taj Mahal |\n",
    "| Jaipur | Jal Mahal |"
   ]
  },
  {
   "cell_type": "code",
   "execution_count": 3,
   "id": "2d8aa799",
   "metadata": {},
   "outputs": [
    {
     "name": "stdout",
     "output_type": "stream",
     "text": [
      "Enter the city name:Delhi\n",
      "Red Fort\n"
     ]
    }
   ],
   "source": [
    "city = input(\"Enter the city name:\")\n",
    "\n",
    "if city == \"Delhi\":\n",
    "    print(\"Red Fort\")\n",
    "elif city == \"Agra\":\n",
    "    print(\"Taj Mahal\")\n",
    "elif city == \"Jaipur\":\n",
    "    print(\"Jal Mahal\")\n",
    "    \n",
    "else:\n",
    "    print(\"Enter a valid city\")"
   ]
  },
  {
   "cell_type": "markdown",
   "id": "c2ce3ba4",
   "metadata": {},
   "source": [
    "# Q(4). Check how many times a given number can be divided by 3 before it is less than or equal to 10."
   ]
  },
  {
   "cell_type": "code",
   "execution_count": 4,
   "id": "62de445a",
   "metadata": {},
   "outputs": [
    {
     "name": "stdout",
     "output_type": "stream",
     "text": [
      "1\n"
     ]
    }
   ],
   "source": [
    "num = 20\n",
    "count = 0\n",
    "\n",
    "for count in range(count, num, 1):\n",
    "    if num <= 10: \n",
    "        break\n",
    "    num = num / 3  \n",
    "\n",
    "print(count)"
   ]
  },
  {
   "cell_type": "markdown",
   "id": "735f12bf",
   "metadata": {},
   "source": [
    "# Q(5). Why and when to Use While loop in Python give a detailed description with example."
   ]
  },
  {
   "cell_type": "markdown",
   "id": "05b87859",
   "metadata": {},
   "source": [
    "Ans. :- A While loop is used to check the condition. if the given condition is true, it will go inside while loop and excute the block of code."
   ]
  },
  {
   "cell_type": "markdown",
   "id": "bb84800e",
   "metadata": {},
   "source": [
    "- If our condition becomes false, then we will not be able to go inside while loop i.e, the loop will get terminated."
   ]
  },
  {
   "cell_type": "markdown",
   "id": "a548cea9",
   "metadata": {},
   "source": [
    "# The Syntax of While loop is as follows:-"
   ]
  },
  {
   "cell_type": "markdown",
   "id": "01cfd801",
   "metadata": {},
   "source": [
    "while condition :"
   ]
  },
  {
   "cell_type": "markdown",
   "id": "b2dec047",
   "metadata": {},
   "source": [
    "    block of code"
   ]
  },
  {
   "cell_type": "markdown",
   "id": "8ae4eb13",
   "metadata": {},
   "source": [
    "- The \"condition\" is a Boolean expression that is evaluated before each iteration of the loop. If the expression becomes True, the block of code will get executed. If the expression becomes False, the loop will get terminatedi.e, we will come out of the loop."
   ]
  },
  {
   "cell_type": "markdown",
   "id": "1616dcc3",
   "metadata": {},
   "source": [
    "# Example of While Loop:"
   ]
  },
  {
   "cell_type": "code",
   "execution_count": 5,
   "id": "a8909dcc",
   "metadata": {},
   "outputs": [
    {
     "name": "stdout",
     "output_type": "stream",
     "text": [
      "1\n",
      "2\n",
      "3\n",
      "4\n",
      "5\n",
      "6\n",
      "7\n",
      "8\n",
      "9\n",
      "10\n"
     ]
    }
   ],
   "source": [
    "a = 1\n",
    "while a <= 10:\n",
    "    print(a)\n",
    "    a = a + 1"
   ]
  },
  {
   "cell_type": "markdown",
   "id": "b6186d8e",
   "metadata": {},
   "source": [
    "- The initial value of \"a\" is given as 1. First of all, It will check the condition \"a<=10\". "
   ]
  },
  {
   "cell_type": "markdown",
   "id": "99a32aeb",
   "metadata": {},
   "source": [
    "- Now, It will check is \"1<=10\" yes it's True. So, it will go inside body of while loop and print the value of \"a\" as 1. "
   ]
  },
  {
   "cell_type": "markdown",
   "id": "7f4dfd25",
   "metadata": {},
   "source": [
    "- In next step, It will increment the value of \"a\" by 1. So, the value of \"a\" will become a = a + 1 = 1 + 1 = 2 i.e, a = 2. "
   ]
  },
  {
   "cell_type": "markdown",
   "id": "3687ab2f",
   "metadata": {},
   "source": [
    "- Now it will again go to the starting of while loop and check the condition. It will keeep checking the condition until the condition becomes false. Once the condition becomes false it will come out of the loop means terminate the loop."
   ]
  },
  {
   "cell_type": "markdown",
   "id": "96638891",
   "metadata": {},
   "source": [
    "- It will keep excuting till the value of \"a\" is 10. When value of \"a\" becomes 11 the condition gets false, then it will break whole while loop."
   ]
  },
  {
   "cell_type": "markdown",
   "id": "5c8a51a1",
   "metadata": {},
   "source": [
    "# Q(6). Use nested while loop to print 3 different patterns."
   ]
  },
  {
   "cell_type": "markdown",
   "id": "4580bc17",
   "metadata": {},
   "source": [
    "# Ans. :- Here are list of 3 different patterns using while loop:"
   ]
  },
  {
   "cell_type": "markdown",
   "id": "d6592c56",
   "metadata": {},
   "source": [
    "# Pattern 1 :"
   ]
  },
  {
   "cell_type": "code",
   "execution_count": 6,
   "id": "6148e8d3",
   "metadata": {},
   "outputs": [
    {
     "name": "stdout",
     "output_type": "stream",
     "text": [
      "*\n",
      "**\n",
      "***\n",
      "****\n",
      "*****\n"
     ]
    }
   ],
   "source": [
    "i = 1\n",
    "\n",
    "while i <= 5:    # Here i denotes row.\n",
    "    j = 1\n",
    "    while j <= i:   # Here j denotes column.\n",
    "        print('*', end = '')\n",
    "        j = j + 1\n",
    "    print()\n",
    "    i = i + 1"
   ]
  },
  {
   "cell_type": "markdown",
   "id": "76611ad5",
   "metadata": {},
   "source": [
    "# Pattern 2 :"
   ]
  },
  {
   "cell_type": "code",
   "execution_count": 7,
   "id": "5608e63b",
   "metadata": {},
   "outputs": [
    {
     "name": "stdout",
     "output_type": "stream",
     "text": [
      "1\n",
      "22\n",
      "333\n",
      "4444\n",
      "55555\n"
     ]
    }
   ],
   "source": [
    "i = 1\n",
    "\n",
    "while i <= 5:  # Here i denotes row.\n",
    "    j = 1      \n",
    "    while j <= i:  # Here j denotes column.\n",
    "        print(i, end = '')\n",
    "        j = j + 1\n",
    "    print()\n",
    "    i = i + 1"
   ]
  },
  {
   "cell_type": "markdown",
   "id": "07f8fc8f",
   "metadata": {},
   "source": [
    "# Pattern 3 :"
   ]
  },
  {
   "cell_type": "code",
   "execution_count": 8,
   "id": "ec89a32b",
   "metadata": {},
   "outputs": [
    {
     "name": "stdout",
     "output_type": "stream",
     "text": [
      "1\n",
      "12\n",
      "123\n",
      "1234\n",
      "12345\n"
     ]
    }
   ],
   "source": [
    "i = 1\n",
    "\n",
    "while i <= 5:\n",
    "    j = 1\n",
    "    while j <= i:\n",
    "        print(j, end = '')\n",
    "        j = j + 1\n",
    "    print()\n",
    "    i = i + 1"
   ]
  },
  {
   "cell_type": "markdown",
   "id": "0cda1d8a",
   "metadata": {},
   "source": [
    "# Q(7). Reverse a while loop to display numbers from 10 to 1."
   ]
  },
  {
   "cell_type": "code",
   "execution_count": 9,
   "id": "a2f2a0cf",
   "metadata": {},
   "outputs": [
    {
     "name": "stdout",
     "output_type": "stream",
     "text": [
      "10\n",
      "9\n",
      "8\n",
      "7\n",
      "6\n",
      "5\n",
      "4\n",
      "3\n",
      "2\n",
      "1\n"
     ]
    }
   ],
   "source": [
    "x = 10\n",
    "\n",
    "while x >= 1:  # Here x denote numbers.\n",
    "    print(x)\n",
    "    x = x - 1"
   ]
  }
 ],
 "metadata": {
  "kernelspec": {
   "display_name": "Python 3 (ipykernel)",
   "language": "python",
   "name": "python3"
  },
  "language_info": {
   "codemirror_mode": {
    "name": "ipython",
    "version": 3
   },
   "file_extension": ".py",
   "mimetype": "text/x-python",
   "name": "python",
   "nbconvert_exporter": "python",
   "pygments_lexer": "ipython3",
   "version": "3.10.9"
  }
 },
 "nbformat": 4,
 "nbformat_minor": 5
}
